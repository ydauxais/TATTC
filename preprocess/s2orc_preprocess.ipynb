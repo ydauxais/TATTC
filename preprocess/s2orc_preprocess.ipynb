{
 "cells": [
  {
   "cell_type": "code",
   "execution_count": 1,
   "metadata": {},
   "outputs": [],
   "source": [
    "import json"
   ]
  },
  {
   "cell_type": "code",
   "execution_count": 2,
   "metadata": {},
   "outputs": [],
   "source": [
    "import gzip"
   ]
  },
  {
   "cell_type": "code",
   "execution_count": 3,
   "metadata": {},
   "outputs": [],
   "source": [
    "from tqdm.notebook import tqdm"
   ]
  },
  {
   "cell_type": "code",
   "execution_count": 4,
   "metadata": {},
   "outputs": [],
   "source": [
    "def normalize_text(t):\n",
    "    temp = str.lower(t)\n",
    "    tokens = [\".\", \",\", \":\", \"(\", \")\", \";\", \"!\", \"[\", \"]\", \"/\"]\n",
    "    for token in tokens:\n",
    "        temp = temp.replace(token, \"\")\n",
    "    return temp"
   ]
  },
  {
   "cell_type": "code",
   "execution_count": null,
   "metadata": {},
   "outputs": [],
   "source": [
    "root = \"/calcul/datasets/s2orc/20200705v1/full/metadata/\"\n",
    "with open(root + \"title_abstract_processed.txt\", \"w\") as fout:    \n",
    "    with open(root + \"metadata_processed.txt\", \"w\") as fout2:\n",
    "        for archive in os.listdir(root):\n",
    "            if archive.endswith(\".gz\"):\n",
    "                with gzip.open(root + archive, 'rb') as fin:\n",
    "                    for line in fin:\n",
    "                        paper = json.loads(line.decode('utf-8'))\n",
    "                        if paper[\"abstract\"] is not None:\n",
    "                            fout.write(normalize_text(paper['title']) + \" \" + normalize_text(paper['abstract']) + \"\\n\")\n",
    "                            fout2.write(json.dumps({\"paper_id\" : paper[\"paper_id\"], \n",
    "                                         \"authors\" : paper[\"authors\"], \n",
    "                                         \"venue\" : paper[\"venue\"], \n",
    "                                         \"journal\" : paper[\"journal\"], \n",
    "                                         \"mag_id\" : paper[\"mag_id\"], \n",
    "                                         \"mag_field\" : paper[\"mag_field_of_study\"]}) + \"\\n\")"
   ]
  }
 ],
 "metadata": {
  "kernelspec": {
   "display_name": "py38_YDA",
   "language": "python",
   "name": "py38_yda"
  },
  "language_info": {
   "codemirror_mode": {
    "name": "ipython",
    "version": 3
   },
   "file_extension": ".py",
   "mimetype": "text/x-python",
   "name": "python",
   "nbconvert_exporter": "python",
   "pygments_lexer": "ipython3",
   "version": "3.8.8"
  }
 },
 "nbformat": 4,
 "nbformat_minor": 4
}
